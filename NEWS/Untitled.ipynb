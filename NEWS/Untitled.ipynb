{
 "cells": [
  {
   "cell_type": "code",
   "execution_count": 1,
   "id": "2ace8efe",
   "metadata": {},
   "outputs": [],
   "source": [
    "# pip install pymystem3"
   ]
  },
  {
   "cell_type": "code",
   "execution_count": 1,
   "id": "8518e500",
   "metadata": {},
   "outputs": [],
   "source": [
    "import pandas as pd\n",
    "import tensorflow as tf\n",
    "import tensorflow.keras.layers as L\n",
    "from tensorflow.keras.models import Model, Sequential\n",
    "from tensorflow.keras.preprocessing.text import Tokenizer\n",
    "from tensorflow.keras.preprocessing import sequence\n",
    "from tensorflow.keras.callbacks import ModelCheckpoint, EarlyStopping\n",
    "from sklearn.model_selection import train_test_split\n",
    "import nltk\n",
    "from nltk.corpus import stopwords\n",
    "from pymystem3 import Mystem\n",
    "from string import punctuation"
   ]
  },
  {
   "cell_type": "code",
   "execution_count": 12,
   "id": "0d177ac8",
   "metadata": {},
   "outputs": [],
   "source": [
    "# #Create lemmatizer and stopwords list\n",
    "# mystem = Mystem() \n",
    "# russian_stopwords = stopwords.words(\"russian\")\n",
    "# #Preprocess function\n",
    "# def preprocess_text(text):\n",
    "#     tokens = mystem.lemmatize(text.lower())\n",
    "#     tokens = [token for token in tokens if token not in russian_stopwords\\\n",
    "#               and token != ' '\\\n",
    "#               and token.strip() not in punctuation\\\n",
    "#              ]\n",
    "#     text = \" \".join(tokens)\n",
    "    \n",
    "#     return text"
   ]
  },
  {
   "cell_type": "code",
   "execution_count": null,
   "id": "26075c7f",
   "metadata": {},
   "outputs": [],
   "source": []
  },
  {
   "cell_type": "code",
   "execution_count": 3,
   "id": "85120704",
   "metadata": {},
   "outputs": [],
   "source": [
    "# def remove_trash(text):\n",
    "#     emoj = re.compile(\"[\"\n",
    "#         u\"\\U0001F600-\\U0001F64F\"  # emoticons\n",
    "#         u\"\\U0001F300-\\U0001F5FF\"  # symbols & pictographs\n",
    "#         u\"\\U0001F680-\\U0001F6FF\"  # transport & map symbols\n",
    "#         u\"\\U0001F1E0-\\U0001F1FF\"  # flags (iOS)\n",
    "#         u\"\\U00002500-\\U00002BEF\"  # chinese char\n",
    "#         u\"\\U00002702-\\U000027B0\"\n",
    "#         u\"\\U00002702-\\U000027B0\"\n",
    "#         u\"\\U000024C2-\\U0001F251\"\n",
    "#         u\"\\U0001f926-\\U0001f937\"\n",
    "#         u\"\\U00010000-\\U0010ffff\"\n",
    "#         u\"\\u2640-\\u2642\" \n",
    "#         u\"\\u2600-\\u2B55\"\n",
    "#         u\"\\u200d\"\n",
    "#         u\"\\u23cf\"\n",
    "#         u\"\\u23e9\"\n",
    "#         u\"\\u231a\"\n",
    "#         u\"\\ufe0f\"  # dingbats\n",
    "#         u\"\\u3030\"\n",
    "#                       \"]+\", re.UNICODE)\n",
    "    \n",
    "#     text = re.sub(r'@[А-Яа-я0-9]+', '', text)\n",
    "#     text = re.sub(r'@[A-Za-z0-9]+', '', text)  # Remove @\n",
    "#     text = re.sub(r'#', '', text)  # remove #\n",
    "#     text = re.sub(r'{', '', text)\n",
    "#     text = re.sub(r'»', '', text)\n",
    "#     text = re.sub(r'«', '', text)\n",
    "#     text = re.sub(r'}', '', text)\n",
    "#     text = re.sub(\"[.|/|-|\\|,|!]\", '', text)  # ~~~~~~~~~~~\n",
    "#     text = re.sub(r'^а-яА-Я', '', text)\n",
    "#     text = re.sub('^a-zA-Z', '', text)\n",
    "#     text = re.sub(r'https?:\\/\\/\\S+', '', text)  # remove hyperlink\n",
    "#     text = re.sub(r'\\n', '', text)\n",
    "#     text = re.sub(r'———————————————————————————', '', text)\n",
    "#     text = re.sub(r'•', '', text)\n",
    "#     text = re.sub(r'\\d{4}', '', text)\n",
    "#     text = re.sub(r'\\b\\w{2}\\b', '', text)\n",
    "\n",
    "\n",
    "#     text = text.strip()\n",
    "    \n",
    "#     return re.sub(emoj, '', text)"
   ]
  },
  {
   "cell_type": "code",
   "execution_count": 15,
   "id": "24479b6a",
   "metadata": {},
   "outputs": [],
   "source": [
    "df = pd.read_csv('news.csv').drop('Unnamed: 0', axis=1)"
   ]
  },
  {
   "cell_type": "code",
   "execution_count": 16,
   "id": "1506a943",
   "metadata": {},
   "outputs": [],
   "source": [
    "# df['news'] = df['news'].apply(lambda x: mystem.lemmatize(x.lower()))\n",
    "# df['news'] = df['news'].apply(lambda x: remove_trash(x))"
   ]
  },
  {
   "cell_type": "code",
   "execution_count": null,
   "id": "16c303c2",
   "metadata": {},
   "outputs": [],
   "source": []
  },
  {
   "cell_type": "code",
   "execution_count": 18,
   "id": "00513292",
   "metadata": {},
   "outputs": [],
   "source": [
    "train = df[~df['source'].isna()]\n",
    "test = df[df['source'].isna()]"
   ]
  },
  {
   "cell_type": "code",
   "execution_count": 19,
   "id": "f96003e4",
   "metadata": {},
   "outputs": [],
   "source": [
    "X = train['news']\n",
    "y = train['source']\n",
    "X_val = test['news']"
   ]
  },
  {
   "cell_type": "code",
   "execution_count": 20,
   "id": "77d2ef8b",
   "metadata": {},
   "outputs": [],
   "source": [
    "X_train, X_test, y_train, y_test = train_test_split(X, y, random_state=42, test_size=0.2, shuffle=False)"
   ]
  },
  {
   "cell_type": "code",
   "execution_count": 21,
   "id": "dfe86e7a",
   "metadata": {},
   "outputs": [],
   "source": [
    "MAX_WORDS = 100000\n",
    "\n",
    "MAX_SEQUENCE_LENGTH = 256"
   ]
  },
  {
   "cell_type": "code",
   "execution_count": 22,
   "id": "149881cd",
   "metadata": {},
   "outputs": [
    {
     "name": "stdout",
     "output_type": "stream",
     "text": [
      "Wall time: 11 s\n"
     ]
    }
   ],
   "source": [
    "%%time\n",
    "tokenize = Tokenizer(num_words=MAX_WORDS)\n",
    "tokenize.fit_on_texts(df['news'])"
   ]
  },
  {
   "cell_type": "code",
   "execution_count": 23,
   "id": "e3e93f1c",
   "metadata": {},
   "outputs": [
    {
     "name": "stderr",
     "output_type": "stream",
     "text": [
      "[nltk_data] Downloading package stopwords to\n",
      "[nltk_data]     C:\\Users\\vetak\\AppData\\Roaming\\nltk_data...\n",
      "[nltk_data]   Package stopwords is already up-to-date!\n"
     ]
    },
    {
     "data": {
      "text/plain": [
       "True"
      ]
     },
     "execution_count": 23,
     "metadata": {},
     "output_type": "execute_result"
    }
   ],
   "source": [
    "# nltk.download('stopwords')"
   ]
  },
  {
   "cell_type": "code",
   "execution_count": 24,
   "id": "32c41287",
   "metadata": {},
   "outputs": [],
   "source": [
    "text_train = df['news'].iloc[X_train.index]\n",
    "text_test = df['news'].iloc[X_test.index]\n",
    "text_val = df['news'].iloc[X_val.index]"
   ]
  },
  {
   "cell_type": "code",
   "execution_count": 25,
   "id": "81ee755e",
   "metadata": {},
   "outputs": [],
   "source": [
    "# tokenize.word_index"
   ]
  },
  {
   "cell_type": "code",
   "execution_count": 26,
   "id": "2200ac99",
   "metadata": {},
   "outputs": [
    {
     "name": "stdout",
     "output_type": "stream",
     "text": [
      "(14688, 256) (3672, 256) (1102, 256)\n",
      "Wall time: 9 s\n"
     ]
    }
   ],
   "source": [
    "%%time\n",
    "text_train_sequences = sequence.pad_sequences(tokenize.texts_to_sequences(text_train), maxlen=MAX_SEQUENCE_LENGTH)\n",
    "text_test_sequences = sequence.pad_sequences(tokenize.texts_to_sequences(text_test), maxlen=MAX_SEQUENCE_LENGTH)\n",
    "text_val_sequences = sequence.pad_sequences(tokenize.texts_to_sequences(text_val), maxlen=MAX_SEQUENCE_LENGTH)\n",
    "\n",
    "print(text_train_sequences.shape, text_test_sequences.shape, text_val_sequences.shape, )"
   ]
  },
  {
   "cell_type": "code",
   "execution_count": 35,
   "id": "5efc076f",
   "metadata": {
    "scrolled": true
   },
   "outputs": [
    {
     "data": {
      "text/plain": [
       "0         Официальный аккаунт PlayStation опубликовал т...\n",
       "1         Китайская компания Mobvoi опубликовала на офи...\n",
       "2         Практически во всех странах мира введены огра...\n",
       "3         Депутат Госдумы, единоросс Антон Горелкин вне...\n",
       "4         Совет директоров «Почты России» проголосовал ...\n",
       "                               ...                        \n",
       "14683     Google отмечает 50 лет с момента создания дет...\n",
       "14684     Стриминговый сервис Netflix в треде в Twitter...\n",
       "14685     Компания Vivo провела презентацию серии смарт...\n",
       "14686     В Едином реестре нотификаций о характеристика...\n",
       "14687     По информации ресурса The Verge , производите...\n",
       "Name: news, Length: 14688, dtype: object"
      ]
     },
     "execution_count": 35,
     "metadata": {},
     "output_type": "execute_result"
    }
   ],
   "source": [
    "text_train\n",
    "# text_train_sequences[0]"
   ]
  },
  {
   "cell_type": "code",
   "execution_count": 82,
   "id": "7a5b1de8",
   "metadata": {},
   "outputs": [],
   "source": [
    "train_ = pd.DataFrame(text_train_sequences)\n",
    "test_ = pd.DataFrame(text_test_sequences)\n",
    "val_ = pd.DataFrame(text_val_sequences)"
   ]
  },
  {
   "cell_type": "code",
   "execution_count": 83,
   "id": "48375c18",
   "metadata": {},
   "outputs": [],
   "source": [
    "from sklearn.linear_model import LogisticRegression"
   ]
  },
  {
   "cell_type": "code",
   "execution_count": 84,
   "id": "c17862b9",
   "metadata": {},
   "outputs": [
    {
     "data": {
      "text/plain": [
       "LogisticRegression()"
      ]
     },
     "execution_count": 84,
     "metadata": {},
     "output_type": "execute_result"
    }
   ],
   "source": [
    "model = LogisticRegression()\n",
    "model.fit(train_.values, y_train.values)"
   ]
  },
  {
   "cell_type": "code",
   "execution_count": 85,
   "id": "0e903e97",
   "metadata": {},
   "outputs": [
    {
     "data": {
      "text/plain": [
       "array([1., 1., 0., ..., 1., 0., 1.])"
      ]
     },
     "execution_count": 85,
     "metadata": {},
     "output_type": "execute_result"
    }
   ],
   "source": [
    "model.predict(test_)"
   ]
  },
  {
   "cell_type": "code",
   "execution_count": 86,
   "id": "717cb71e",
   "metadata": {},
   "outputs": [],
   "source": [
    "from sklearn.metrics import f1_score, confusion_matrix, accuracy_score"
   ]
  },
  {
   "cell_type": "code",
   "execution_count": null,
   "id": "cc180db7",
   "metadata": {},
   "outputs": [],
   "source": []
  },
  {
   "cell_type": "code",
   "execution_count": 87,
   "id": "aa36a204",
   "metadata": {},
   "outputs": [
    {
     "data": {
      "text/plain": [
       "array([[ 434,  123,  144],\n",
       "       [ 126, 2173,   28],\n",
       "       [ 255,  292,   97]], dtype=int64)"
      ]
     },
     "execution_count": 87,
     "metadata": {},
     "output_type": "execute_result"
    }
   ],
   "source": [
    "confusion_matrix(y_test.values, model.predict(test_.values))"
   ]
  },
  {
   "cell_type": "code",
   "execution_count": 88,
   "id": "709e06b8",
   "metadata": {},
   "outputs": [
    {
     "data": {
      "text/plain": [
       "0.7363834422657952"
      ]
     },
     "execution_count": 88,
     "metadata": {},
     "output_type": "execute_result"
    }
   ],
   "source": [
    "accuracy_score(y_test.values, model.predict(test_.values))"
   ]
  },
  {
   "cell_type": "code",
   "execution_count": 89,
   "id": "6b4db3d0",
   "metadata": {},
   "outputs": [],
   "source": [
    "X_ = pd.concat([train_, test_]).values"
   ]
  },
  {
   "cell_type": "code",
   "execution_count": 90,
   "id": "e264d7bb",
   "metadata": {},
   "outputs": [],
   "source": [
    "y_ = train['source'].values"
   ]
  },
  {
   "cell_type": "code",
   "execution_count": 91,
   "id": "e2786128",
   "metadata": {},
   "outputs": [
    {
     "data": {
      "text/plain": [
       "LogisticRegression()"
      ]
     },
     "execution_count": 91,
     "metadata": {},
     "output_type": "execute_result"
    }
   ],
   "source": [
    "model_ = LogisticRegression()\n",
    "model.fit(X_, y_)"
   ]
  },
  {
   "cell_type": "code",
   "execution_count": 92,
   "id": "e4778ca5",
   "metadata": {},
   "outputs": [],
   "source": [
    "predictions = pd.DataFrame(model.predict(val_))"
   ]
  },
  {
   "cell_type": "code",
   "execution_count": 93,
   "id": "bef439f0",
   "metadata": {},
   "outputs": [],
   "source": [
    "predictions.to_csv('sub.csv', index=False)"
   ]
  },
  {
   "cell_type": "code",
   "execution_count": 105,
   "id": "2afe3b63",
   "metadata": {},
   "outputs": [],
   "source": [
    "a = pd.read_csv('sub.csv', header=None)"
   ]
  },
  {
   "cell_type": "code",
   "execution_count": 108,
   "id": "488dcc7a",
   "metadata": {},
   "outputs": [
    {
     "data": {
      "text/plain": [
       "1.0    769\n",
       "0.0    255\n",
       "2.0     78\n",
       "Name: 0, dtype: int64"
      ]
     },
     "execution_count": 108,
     "metadata": {},
     "output_type": "execute_result"
    }
   ],
   "source": [
    "a[0].value_counts()"
   ]
  },
  {
   "cell_type": "code",
   "execution_count": null,
   "id": "6f684e06",
   "metadata": {},
   "outputs": [],
   "source": []
  },
  {
   "cell_type": "code",
   "execution_count": null,
   "id": "98216df3",
   "metadata": {},
   "outputs": [],
   "source": []
  }
 ],
 "metadata": {
  "kernelspec": {
   "display_name": "Python 3",
   "language": "python",
   "name": "python3"
  },
  "language_info": {
   "codemirror_mode": {
    "name": "ipython",
    "version": 3
   },
   "file_extension": ".py",
   "mimetype": "text/x-python",
   "name": "python",
   "nbconvert_exporter": "python",
   "pygments_lexer": "ipython3",
   "version": "3.8.8"
  }
 },
 "nbformat": 4,
 "nbformat_minor": 5
}
