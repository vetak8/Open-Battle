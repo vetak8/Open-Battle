{
 "cells": [
  {
   "cell_type": "code",
   "execution_count": 132,
   "id": "797ad660",
   "metadata": {},
   "outputs": [],
   "source": [
    "import pandas as pd\n",
    "import numpy as np\n",
    "import seaborn as sns"
   ]
  },
  {
   "cell_type": "code",
   "execution_count": 2,
   "id": "e8c654c1",
   "metadata": {},
   "outputs": [],
   "source": [
    "df = pd.read_csv('covid-19cases.csv', )"
   ]
  },
  {
   "cell_type": "code",
   "execution_count": 3,
   "id": "4676008a",
   "metadata": {
    "scrolled": true
   },
   "outputs": [
    {
     "name": "stdout",
     "output_type": "stream",
     "text": [
      "<class 'pandas.core.frame.DataFrame'>\n",
      "RangeIndex: 105748 entries, 0 to 105747\n",
      "Data columns (total 46 columns):\n",
      " #   Column                           Non-Null Count   Dtype  \n",
      "---  ------                           --------------   -----  \n",
      " 0   Unnamed: 0                       105748 non-null  int64  \n",
      " 1   date                             105748 non-null  object \n",
      " 2   continent                        52269 non-null   object \n",
      " 3   location                         52873 non-null   object \n",
      " 4   total_cases                      49259 non-null   float64\n",
      " 5   new_cases                        51979 non-null   float64\n",
      " 6   new_cases_smoothed               51185 non-null   float64\n",
      " 7   total_deaths                     40323 non-null   float64\n",
      " 8   new_deaths                       51979 non-null   float64\n",
      " 9   new_deaths_smoothed              51185 non-null   float64\n",
      " 10  total_cases_per_million          48993 non-null   float64\n",
      " 11  new_cases_per_million            51915 non-null   float64\n",
      " 12  new_cases_smoothed_per_million   51120 non-null   float64\n",
      " 13  total_deaths_per_million         40072 non-null   float64\n",
      " 14  new_deaths_per_million           51915 non-null   float64\n",
      " 15  new_deaths_smoothed_per_million  51120 non-null   float64\n",
      " 16  total_tests                      20007 non-null   float64\n",
      " 17  new_tests                        19844 non-null   float64\n",
      " 18  total_tests_per_thousand         20007 non-null   float64\n",
      " 19  new_tests_per_thousand           19844 non-null   float64\n",
      " 20  new_tests_smoothed               22220 non-null   float64\n",
      " 21  new_tests_smoothed_per_thousand  22220 non-null   float64\n",
      " 22  tests_per_case                   20536 non-null   float64\n",
      " 23  positive_rate                    20880 non-null   float64\n",
      " 24  tests_units                      23217 non-null   object \n",
      " 25  stringency_index                 43997 non-null   float64\n",
      " 26  population                       52571 non-null   float64\n",
      " 27  population_density               50123 non-null   float64\n",
      " 28  median_age                       47079 non-null   float64\n",
      " 29  aged_65_older                    46373 non-null   float64\n",
      " 30  aged_70_older                    46834 non-null   float64\n",
      " 31  gdp_per_capita                   46455 non-null   float64\n",
      " 32  extreme_poverty                  30975 non-null   float64\n",
      " 33  cardiovasc_death_rate            47052 non-null   float64\n",
      " 34  diabetes_prevalence              48759 non-null   float64\n",
      " 35  female_smokers                   36694 non-null   float64\n",
      " 36  male_smokers                     36223 non-null   float64\n",
      " 37  handwashing_facilities           22198 non-null   float64\n",
      " 38  hospital_beds_per_thousand       42423 non-null   float64\n",
      " 39  life_expectancy                  51899 non-null   float64\n",
      " 40  human_development_index          45419 non-null   float64\n",
      " 41  Unnamed: 40                      0 non-null       float64\n",
      " 42  Unnamed: 41                      0 non-null       float64\n",
      " 43  iso_code                         52571 non-null   object \n",
      " 44  month                            52873 non-null   float64\n",
      " 45  year                             52873 non-null   float64\n",
      "dtypes: float64(40), int64(1), object(5)\n",
      "memory usage: 37.1+ MB\n"
     ]
    }
   ],
   "source": [
    "df.info()"
   ]
  },
  {
   "cell_type": "code",
   "execution_count": 4,
   "id": "a9c5c5ef",
   "metadata": {},
   "outputs": [],
   "source": [
    "df = df.dropna(axis=1, how='all').drop(df.columns[0], axis=1)"
   ]
  },
  {
   "cell_type": "code",
   "execution_count": 5,
   "id": "cd9af40e",
   "metadata": {},
   "outputs": [],
   "source": [
    "idxs_for_notes = df[df['date'] == 'For Notes: '].index"
   ]
  },
  {
   "cell_type": "code",
   "execution_count": 6,
   "id": "ffb34d8e",
   "metadata": {},
   "outputs": [],
   "source": [
    "df = df.drop(idxs_for_notes, axis=0)"
   ]
  },
  {
   "cell_type": "code",
   "execution_count": 7,
   "id": "1719c2b1",
   "metadata": {},
   "outputs": [],
   "source": [
    "df['date'] = pd.to_datetime(df['date']).apply(lambda x:x.month)"
   ]
  },
  {
   "cell_type": "code",
   "execution_count": 8,
   "id": "9a32c500",
   "metadata": {
    "scrolled": true
   },
   "outputs": [
    {
     "name": "stdout",
     "output_type": "stream",
     "text": [
      "<class 'pandas.core.frame.DataFrame'>\n",
      "Int64Index: 52873 entries, 0 to 105746\n",
      "Data columns (total 43 columns):\n",
      " #   Column                           Non-Null Count  Dtype  \n",
      "---  ------                           --------------  -----  \n",
      " 0   date                             52873 non-null  int64  \n",
      " 1   continent                        52269 non-null  object \n",
      " 2   location                         52873 non-null  object \n",
      " 3   total_cases                      49259 non-null  float64\n",
      " 4   new_cases                        51979 non-null  float64\n",
      " 5   new_cases_smoothed               51185 non-null  float64\n",
      " 6   total_deaths                     40323 non-null  float64\n",
      " 7   new_deaths                       51979 non-null  float64\n",
      " 8   new_deaths_smoothed              51185 non-null  float64\n",
      " 9   total_cases_per_million          48993 non-null  float64\n",
      " 10  new_cases_per_million            51915 non-null  float64\n",
      " 11  new_cases_smoothed_per_million   51120 non-null  float64\n",
      " 12  total_deaths_per_million         40072 non-null  float64\n",
      " 13  new_deaths_per_million           51915 non-null  float64\n",
      " 14  new_deaths_smoothed_per_million  51120 non-null  float64\n",
      " 15  total_tests                      20007 non-null  float64\n",
      " 16  new_tests                        19844 non-null  float64\n",
      " 17  total_tests_per_thousand         20007 non-null  float64\n",
      " 18  new_tests_per_thousand           19844 non-null  float64\n",
      " 19  new_tests_smoothed               22220 non-null  float64\n",
      " 20  new_tests_smoothed_per_thousand  22220 non-null  float64\n",
      " 21  tests_per_case                   20536 non-null  float64\n",
      " 22  positive_rate                    20880 non-null  float64\n",
      " 23  tests_units                      23217 non-null  object \n",
      " 24  stringency_index                 43997 non-null  float64\n",
      " 25  population                       52571 non-null  float64\n",
      " 26  population_density               50123 non-null  float64\n",
      " 27  median_age                       47079 non-null  float64\n",
      " 28  aged_65_older                    46373 non-null  float64\n",
      " 29  aged_70_older                    46834 non-null  float64\n",
      " 30  gdp_per_capita                   46455 non-null  float64\n",
      " 31  extreme_poverty                  30975 non-null  float64\n",
      " 32  cardiovasc_death_rate            47052 non-null  float64\n",
      " 33  diabetes_prevalence              48759 non-null  float64\n",
      " 34  female_smokers                   36694 non-null  float64\n",
      " 35  male_smokers                     36223 non-null  float64\n",
      " 36  handwashing_facilities           22198 non-null  float64\n",
      " 37  hospital_beds_per_thousand       42423 non-null  float64\n",
      " 38  life_expectancy                  51899 non-null  float64\n",
      " 39  human_development_index          45419 non-null  float64\n",
      " 40  iso_code                         52571 non-null  object \n",
      " 41  month                            52873 non-null  float64\n",
      " 42  year                             52873 non-null  float64\n",
      "dtypes: float64(38), int64(1), object(4)\n",
      "memory usage: 17.7+ MB\n"
     ]
    }
   ],
   "source": [
    "df.info()"
   ]
  },
  {
   "cell_type": "code",
   "execution_count": 60,
   "id": "acc9550f",
   "metadata": {},
   "outputs": [],
   "source": [
    "df2 = pd.DataFrame(df.groupby(['continent','date'])['continent'].count())\n"
   ]
  },
  {
   "cell_type": "code",
   "execution_count": 61,
   "id": "5fd960eb",
   "metadata": {},
   "outputs": [
    {
     "data": {
      "text/plain": [
       "Europe           13748\n",
       "Asia             12548\n",
       "Africa           12482\n",
       "North America     8360\n",
       "South America     3133\n",
       "Oceania           1998\n",
       "Name: continent, dtype: int64"
      ]
     },
     "execution_count": 61,
     "metadata": {},
     "output_type": "execute_result"
    }
   ],
   "source": [
    "df['continent'].value_counts()"
   ]
  },
  {
   "cell_type": "code",
   "execution_count": 62,
   "id": "9aac234c",
   "metadata": {},
   "outputs": [],
   "source": [
    "\n",
    "pd.set_option('display.max_rows', None)"
   ]
  },
  {
   "cell_type": "code",
   "execution_count": null,
   "id": "d00a06c2",
   "metadata": {},
   "outputs": [],
   "source": []
  },
  {
   "cell_type": "code",
   "execution_count": 63,
   "id": "651c6f7d",
   "metadata": {},
   "outputs": [
    {
     "data": {
      "text/plain": [
       "Index(['Africa', 'Asia', 'Europe', 'North America', 'Oceania',\n",
       "       'South America'],\n",
       "      dtype='object', name='continent')"
      ]
     },
     "execution_count": 63,
     "metadata": {},
     "output_type": "execute_result"
    }
   ],
   "source": [
    "df2.groupby(level='continent').count().index"
   ]
  },
  {
   "cell_type": "code",
   "execution_count": 82,
   "id": "b9dd58ba",
   "metadata": {},
   "outputs": [],
   "source": [
    "dd = pd.DataFrame(data=df2.values.reshape(12, 6), index = range(1, 13), columns=df2.groupby(level='continent').count().index )"
   ]
  },
  {
   "cell_type": "code",
   "execution_count": 83,
   "id": "c3506a4c",
   "metadata": {},
   "outputs": [
    {
     "data": {
      "text/plain": [
       "array([[ 447,  478, 1098, 1334, 1436, 1385],\n",
       "       [1443, 1442, 1390, 1224,  401,  404],\n",
       "       [ 939,  884, 1192, 1219, 1283, 1239],\n",
       "       [1284, 1286, 1256, 1111,  412,  443],\n",
       "       [ 955,  923, 1376, 1363, 1414, 1366],\n",
       "       [1418, 1419, 1369, 1209,  453,  483],\n",
       "       [ 340,  346,  733,  913,  949,  913],\n",
       "       [ 950,  949,  916,  808,  268,  275],\n",
       "       [ 104,  115,  170,  208,  216,  208],\n",
       "       [ 216,  216,  208,  207,   64,   66],\n",
       "       [ 135,  133,  312,  334,  347,  335],\n",
       "       [ 349,  348,  336,  297,  102,  105]], dtype=int64)"
      ]
     },
     "execution_count": 83,
     "metadata": {},
     "output_type": "execute_result"
    }
   ],
   "source": [
    "df2.values.reshape(12, 6)"
   ]
  },
  {
   "cell_type": "code",
   "execution_count": 136,
   "id": "e7c0ff87",
   "metadata": {},
   "outputs": [
    {
     "data": {
      "text/plain": [
       "<AxesSubplot:xlabel='continent', ylabel='continent'>"
      ]
     },
     "execution_count": 136,
     "metadata": {},
     "output_type": "execute_result"
    },
    {
     "data": {
      "image/png": "[encoded data removed]",
      "text/plain": [
       "<Figure size 432x288 with 2 Axes>"
      ]
     },
     "metadata": {
      "needs_background": "light"
     },
     "output_type": "display_data"
    }
   ],
   "source": [
    "sns.heatmap(dd.corr())"
   ]
  },
  {
   "cell_type": "code",
   "execution_count": 137,
   "id": "c74ff1da",
   "metadata": {},
   "outputs": [
    {
     "data": {
      "text/plain": [
       "continent\n",
       "Africa           715.000000\n",
       "Asia             711.583333\n",
       "Europe           863.000000\n",
       "North America    852.250000\n",
       "Oceania          612.083333\n",
       "South America    601.833333\n",
       "dtype: float64"
      ]
     },
     "execution_count": 137,
     "metadata": {},
     "output_type": "execute_result"
    }
   ],
   "source": [
    "dd.mean()"
   ]
  },
  {
   "cell_type": "code",
   "execution_count": 130,
   "id": "a56ba059",
   "metadata": {},
   "outputs": [
    {
     "data": {
      "text/html": [
       "<div>\n",
       "<style scoped>\n",
       "    .dataframe tbody tr th:only-of-type {\n",
       "        vertical-align: middle;\n",
       "    }\n",
       "\n",
       "    .dataframe tbody tr th {\n",
       "        vertical-align: top;\n",
       "    }\n",
       "\n",
       "    .dataframe thead th {\n",
       "        text-align: right;\n",
       "    }\n",
       "</style>\n",
       "<table border=\"1\" class=\"dataframe\">\n",
       "  <thead>\n",
       "    <tr style=\"text-align: right;\">\n",
       "      <th></th>\n",
       "      <th>0</th>\n",
       "    </tr>\n",
       "  </thead>\n",
       "  <tbody>\n",
       "    <tr>\n",
       "      <th>0</th>\n",
       "      <td>1.0</td>\n",
       "    </tr>\n",
       "  </tbody>\n",
       "</table>\n",
       "</div>"
      ],
      "text/plain": [
       "     0\n",
       "0  1.0"
      ]
     },
     "execution_count": 130,
     "metadata": {},
     "output_type": "execute_result"
    }
   ],
   "source": [
    "pd.DataFrame(dd.mean().values.reshape(-1,1), index=dd.mean().index).corr("
   ]
  },
  {
   "cell_type": "code",
   "execution_count": null,
   "id": "80311f3a",
   "metadata": {},
   "outputs": [],
   "source": []
  }
 ],
 "metadata": {
  "kernelspec": {
   "display_name": "Python 3",
   "language": "python",
   "name": "python3"
  },
  "language_info": {
   "codemirror_mode": {
    "name": "ipython",
    "version": 3
   },
   "file_extension": ".py",
   "mimetype": "text/x-python",
   "name": "python",
   "nbconvert_exporter": "python",
   "pygments_lexer": "ipython3",
   "version": "3.8.8"
  }
 },
 "nbformat": 4,
 "nbformat_minor": 5
}
