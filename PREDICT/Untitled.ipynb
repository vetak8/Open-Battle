{
 "cells": [
  {
   "cell_type": "code",
   "execution_count": 1,
   "id": "7bde1393",
   "metadata": {},
   "outputs": [],
   "source": [
    "\n",
    "import tensorflow as tf\n",
    "import numpy as np\n",
    "import matplotlib.pyplot as plt\n",
    "import json\n",
    "import pandas as pd\n",
    "\n"
   ]
  },
  {
   "cell_type": "code",
   "execution_count": 109,
   "id": "8463ebd1",
   "metadata": {},
   "outputs": [
    {
     "data": {
      "text/plain": [
       "855"
      ]
     },
     "execution_count": 109,
     "metadata": {},
     "output_type": "execute_result"
    }
   ],
   "source": [
    "np.sum(np.array([range(5), range(5,10)]*3)*np.array([range(5), range(5,10)]*3))"
   ]
  },
  {
   "cell_type": "code",
   "execution_count": 2,
   "id": "b018f258",
   "metadata": {},
   "outputs": [],
   "source": [
    "inputs = np.load('inputs.npy')\n",
    "outputs = np.load('outputs.npy')"
   ]
  },
  {
   "cell_type": "code",
   "execution_count": 98,
   "id": "c04136fa",
   "metadata": {},
   "outputs": [
    {
     "name": "stdout",
     "output_type": "stream",
     "text": [
      "Current loss: 64.425941\n"
     ]
    }
   ],
   "source": [
    "# Модель\n",
    "class myModel(object):\n",
    "    \n",
    "    \n",
    "    def __init__(self):\n",
    "        self.W = tf.Variable(5.0)\n",
    "        self.b = tf.Variable(10.0)\n",
    "\n",
    "    def __call__(self, x):\n",
    "        return self.W * x + self.b\n",
    "\n",
    "model_ = myModel()\n",
    "\n",
    "# Ошибка\n",
    "def loss(target_y, predicted_y):\n",
    "    \n",
    "    return tf.reduce_mean(tf.square(target_y - predicted_y))\n",
    "\n",
    "print('Current loss: %1.6f' % loss(model(inputs), outputs).numpy())\n"
   ]
  },
  {
   "cell_type": "code",
   "execution_count": 103,
   "id": "abce132f",
   "metadata": {},
   "outputs": [
    {
     "data": {
      "text/plain": [
       "<tf.Tensor: shape=(1, 6), dtype=float32, numpy=array([[10., 15., 20., 25., 30., 35.]], dtype=float32)>"
      ]
     },
     "execution_count": 103,
     "metadata": {},
     "output_type": "execute_result"
    }
   ],
   "source": [
    "model_([np.array(range(6))])"
   ]
  },
  {
   "cell_type": "code",
   "execution_count": 68,
   "id": "ff4959f0",
   "metadata": {},
   "outputs": [],
   "source": [
    "X = inputs.reshape(-1,1)\n",
    "y = outputs.reshape(-1,1)\n",
    "val = np.array([1, 2, 3, 4, 5]).reshape(-1,1)"
   ]
  },
  {
   "cell_type": "code",
   "execution_count": 69,
   "id": "1a81ed50",
   "metadata": {},
   "outputs": [],
   "source": [
    "from sklearn.linear_model import LinearRegression"
   ]
  },
  {
   "cell_type": "code",
   "execution_count": 70,
   "id": "fa0dda18",
   "metadata": {},
   "outputs": [],
   "source": [
    "model = LinearRegression()"
   ]
  },
  {
   "cell_type": "code",
   "execution_count": 71,
   "id": "49b92c10",
   "metadata": {},
   "outputs": [
    {
     "data": {
      "text/plain": [
       "LinearRegression()"
      ]
     },
     "execution_count": 71,
     "metadata": {},
     "output_type": "execute_result"
    }
   ],
   "source": [
    "model.fit(X, y)\n"
   ]
  },
  {
   "cell_type": "code",
   "execution_count": 76,
   "id": "99c7afa4",
   "metadata": {},
   "outputs": [],
   "source": [
    "predict = model.predict(val)"
   ]
  },
  {
   "cell_type": "code",
   "execution_count": 82,
   "id": "e0bbf860",
   "metadata": {},
   "outputs": [],
   "source": [
    "l = []\n",
    "for i in predict:\n",
    "    l.append(i[0])"
   ]
  },
  {
   "cell_type": "code",
   "execution_count": 84,
   "id": "fdade522",
   "metadata": {},
   "outputs": [
    {
     "name": "stdout",
     "output_type": "stream",
     "text": [
      "[8.045284271240234, 14.017423629760742, 19.98956298828125, 25.961702346801758, 31.933841705322266]\n"
     ]
    }
   ],
   "source": [
    "print(l)"
   ]
  },
  {
   "cell_type": "code",
   "execution_count": null,
   "id": "089f9ae6",
   "metadata": {},
   "outputs": [],
   "source": []
  }
 ],
 "metadata": {
  "kernelspec": {
   "display_name": "Python 3",
   "language": "python",
   "name": "python3"
  },
  "language_info": {
   "codemirror_mode": {
    "name": "ipython",
    "version": 3
   },
   "file_extension": ".py",
   "mimetype": "text/x-python",
   "name": "python",
   "nbconvert_exporter": "python",
   "pygments_lexer": "ipython3",
   "version": "3.8.8"
  }
 },
 "nbformat": 4,
 "nbformat_minor": 5
}
